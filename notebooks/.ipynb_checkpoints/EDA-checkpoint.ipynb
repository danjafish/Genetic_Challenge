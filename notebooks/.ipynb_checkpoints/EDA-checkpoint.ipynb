{
 "cells": [
  {
   "cell_type": "code",
   "execution_count": 15,
   "metadata": {
    "ExecuteTime": {
     "end_time": "2020-09-04T11:47:16.444219Z",
     "start_time": "2020-09-04T11:47:15.546487Z"
    }
   },
   "outputs": [],
   "source": [
    "import pandas as pd \n",
    "#import xgboost as xgb\n",
    "#import lightgbm\n",
    "#import catboost\n",
    "from sklearn.model_selection import train_test_split, StratifiedKFold\n",
    "import numpy as np \n",
    "from keras.preprocessing.sequence import pad_sequences\n",
    "from sklearn.ensemble import RandomForestClassifier\n",
    "from sklearn.metrics import accuracy_score\n",
    "from functools import reduce"
   ]
  },
  {
   "cell_type": "code",
   "execution_count": 3,
   "metadata": {
    "ExecuteTime": {
     "end_time": "2020-09-04T12:10:06.476156Z",
     "start_time": "2020-09-04T12:10:06.470434Z"
    }
   },
   "outputs": [],
   "source": [
    "def top10acc(y_true, y_predict):\n",
    "    s = 0\n",
    "    for i in range(len(y_true)):\n",
    "        #print(y_true[i], y_predict[i])\n",
    "        if y_true[i] in y_predict[i]:\n",
    "            s+=1\n",
    "    return s/len(y_true)"
   ]
  },
  {
   "cell_type": "code",
   "execution_count": 24,
   "metadata": {
    "ExecuteTime": {
     "end_time": "2020-09-04T11:47:18.552418Z",
     "start_time": "2020-09-04T11:47:16.449831Z"
    }
   },
   "outputs": [
    {
     "data": {
      "text/plain": [
       "(63017, 41)"
      ]
     },
     "execution_count": 24,
     "metadata": {},
     "output_type": "execute_result"
    }
   ],
   "source": [
    "train_data = pd.read_csv('train_values.csv')\n",
    "train_data.shape"
   ]
  },
  {
   "cell_type": "code",
   "execution_count": 26,
   "metadata": {
    "ExecuteTime": {
     "end_time": "2020-09-04T11:47:18.573287Z",
     "start_time": "2020-09-04T11:47:18.554186Z"
    }
   },
   "outputs": [
    {
     "data": {
      "text/html": [
       "<div>\n",
       "<style scoped>\n",
       "    .dataframe tbody tr th:only-of-type {\n",
       "        vertical-align: middle;\n",
       "    }\n",
       "\n",
       "    .dataframe tbody tr th {\n",
       "        vertical-align: top;\n",
       "    }\n",
       "\n",
       "    .dataframe thead th {\n",
       "        text-align: right;\n",
       "    }\n",
       "</style>\n",
       "<table border=\"1\" class=\"dataframe\">\n",
       "  <thead>\n",
       "    <tr style=\"text-align: right;\">\n",
       "      <th></th>\n",
       "      <th>bacterial_resistance_ampicillin</th>\n",
       "      <th>bacterial_resistance_chloramphenicol</th>\n",
       "      <th>bacterial_resistance_kanamycin</th>\n",
       "      <th>bacterial_resistance_other</th>\n",
       "      <th>bacterial_resistance_spectinomycin</th>\n",
       "      <th>copy_number_high_copy</th>\n",
       "      <th>copy_number_low_copy</th>\n",
       "      <th>copy_number_unknown</th>\n",
       "      <th>growth_strain_ccdb_survival</th>\n",
       "      <th>growth_strain_dh10b</th>\n",
       "      <th>...</th>\n",
       "      <th>species_budding_yeast</th>\n",
       "      <th>species_fly</th>\n",
       "      <th>species_human</th>\n",
       "      <th>species_mouse</th>\n",
       "      <th>species_mustard_weed</th>\n",
       "      <th>species_nematode</th>\n",
       "      <th>species_other</th>\n",
       "      <th>species_rat</th>\n",
       "      <th>species_synthetic</th>\n",
       "      <th>species_zebrafish</th>\n",
       "    </tr>\n",
       "  </thead>\n",
       "  <tbody>\n",
       "    <tr>\n",
       "      <td>0.0</td>\n",
       "      <td>19590</td>\n",
       "      <td>60506</td>\n",
       "      <td>48706</td>\n",
       "      <td>62078</td>\n",
       "      <td>58592</td>\n",
       "      <td>18750</td>\n",
       "      <td>57313</td>\n",
       "      <td>50059</td>\n",
       "      <td>61841</td>\n",
       "      <td>61285</td>\n",
       "      <td>...</td>\n",
       "      <td>61417</td>\n",
       "      <td>61478</td>\n",
       "      <td>36890</td>\n",
       "      <td>57732</td>\n",
       "      <td>61978</td>\n",
       "      <td>62322</td>\n",
       "      <td>56381</td>\n",
       "      <td>61949</td>\n",
       "      <td>55170</td>\n",
       "      <td>61742</td>\n",
       "    </tr>\n",
       "    <tr>\n",
       "      <td>1.0</td>\n",
       "      <td>43427</td>\n",
       "      <td>2511</td>\n",
       "      <td>14311</td>\n",
       "      <td>939</td>\n",
       "      <td>4425</td>\n",
       "      <td>44267</td>\n",
       "      <td>5704</td>\n",
       "      <td>12958</td>\n",
       "      <td>1176</td>\n",
       "      <td>1732</td>\n",
       "      <td>...</td>\n",
       "      <td>1600</td>\n",
       "      <td>1539</td>\n",
       "      <td>26127</td>\n",
       "      <td>5285</td>\n",
       "      <td>1039</td>\n",
       "      <td>695</td>\n",
       "      <td>6636</td>\n",
       "      <td>1068</td>\n",
       "      <td>7847</td>\n",
       "      <td>1275</td>\n",
       "    </tr>\n",
       "  </tbody>\n",
       "</table>\n",
       "<p>2 rows × 39 columns</p>\n",
       "</div>"
      ],
      "text/plain": [
       "     bacterial_resistance_ampicillin  bacterial_resistance_chloramphenicol  \\\n",
       "0.0                            19590                                 60506   \n",
       "1.0                            43427                                  2511   \n",
       "\n",
       "     bacterial_resistance_kanamycin  bacterial_resistance_other  \\\n",
       "0.0                           48706                       62078   \n",
       "1.0                           14311                         939   \n",
       "\n",
       "     bacterial_resistance_spectinomycin  copy_number_high_copy  \\\n",
       "0.0                               58592                  18750   \n",
       "1.0                                4425                  44267   \n",
       "\n",
       "     copy_number_low_copy  copy_number_unknown  growth_strain_ccdb_survival  \\\n",
       "0.0                 57313                50059                        61841   \n",
       "1.0                  5704                12958                         1176   \n",
       "\n",
       "     growth_strain_dh10b  ...  species_budding_yeast  species_fly  \\\n",
       "0.0                61285  ...                  61417        61478   \n",
       "1.0                 1732  ...                   1600         1539   \n",
       "\n",
       "     species_human  species_mouse  species_mustard_weed  species_nematode  \\\n",
       "0.0          36890          57732                 61978             62322   \n",
       "1.0          26127           5285                  1039               695   \n",
       "\n",
       "     species_other  species_rat  species_synthetic  species_zebrafish  \n",
       "0.0          56381        61949              55170              61742  \n",
       "1.0           6636         1068               7847               1275  \n",
       "\n",
       "[2 rows x 39 columns]"
      ]
     },
     "execution_count": 26,
     "metadata": {},
     "output_type": "execute_result"
    }
   ],
   "source": [
    "train_data.head()\n",
    "train_data.iloc[:, 2:].apply(pd.value_counts)"
   ]
  },
  {
   "cell_type": "code",
   "execution_count": 28,
   "metadata": {},
   "outputs": [
    {
     "data": {
      "text/plain": [
       "65613"
      ]
     },
     "execution_count": 28,
     "metadata": {},
     "output_type": "execute_result"
    }
   ],
   "source": [
    "43427 + 2511 + 14311 + 939 + 4425"
   ]
  },
  {
   "cell_type": "code",
   "execution_count": 29,
   "metadata": {},
   "outputs": [
    {
     "data": {
      "text/plain": [
       "62929"
      ]
     },
     "execution_count": 29,
     "metadata": {},
     "output_type": "execute_result"
    }
   ],
   "source": [
    "44267 + 5704 + 12958"
   ]
  },
  {
   "cell_type": "code",
   "execution_count": 27,
   "metadata": {},
   "outputs": [
    {
     "data": {
      "text/plain": [
       "63017"
      ]
     },
     "execution_count": 27,
     "metadata": {},
     "output_type": "execute_result"
    }
   ],
   "source": [
    "19590 + 43427"
   ]
  },
  {
   "cell_type": "code",
   "execution_count": null,
   "metadata": {},
   "outputs": [],
   "source": [
    "def type_of_plasmid(row):\n",
    "    "
   ]
  },
  {
   "cell_type": "code",
   "execution_count": 20,
   "metadata": {},
   "outputs": [],
   "source": [
    "train_data['species_not_given'] = 0.0\n",
    "train_data.loc[reduce(lambda x,y: x & y, [train_data[x]==0.0 for x in list(train_data.columns) if 'species' in x]), 'species_not_given'] = 1.0"
   ]
  },
  {
   "cell_type": "code",
   "execution_count": null,
   "metadata": {},
   "outputs": [],
   "source": []
  },
  {
   "cell_type": "code",
   "execution_count": 21,
   "metadata": {},
   "outputs": [
    {
     "data": {
      "text/plain": [
       "(64127,)"
      ]
     },
     "execution_count": 21,
     "metadata": {},
     "output_type": "execute_result"
    }
   ],
   "source": [
    "y = np.where(train_data[[x for x in list(train_data.columns) if 'species' in x]].values==1.0)[1]\n",
    "y.shape"
   ]
  },
  {
   "cell_type": "code",
   "execution_count": 6,
   "metadata": {
    "ExecuteTime": {
     "end_time": "2020-09-04T11:47:24.455120Z",
     "start_time": "2020-09-04T11:47:18.575108Z"
    }
   },
   "outputs": [
    {
     "data": {
      "text/html": [
       "<div>\n",
       "<style scoped>\n",
       "    .dataframe tbody tr th:only-of-type {\n",
       "        vertical-align: middle;\n",
       "    }\n",
       "\n",
       "    .dataframe tbody tr th {\n",
       "        vertical-align: top;\n",
       "    }\n",
       "\n",
       "    .dataframe thead th {\n",
       "        text-align: right;\n",
       "    }\n",
       "</style>\n",
       "<table border=\"1\" class=\"dataframe\">\n",
       "  <thead>\n",
       "    <tr style=\"text-align: right;\">\n",
       "      <th></th>\n",
       "      <th>sequence_id</th>\n",
       "      <th>00Q4V31T</th>\n",
       "      <th>012VT4JK</th>\n",
       "      <th>028IO5W2</th>\n",
       "      <th>03GRNN7N</th>\n",
       "      <th>03Y3W51H</th>\n",
       "      <th>09MQV1TY</th>\n",
       "      <th>0A4AHRCT</th>\n",
       "      <th>0A9M05NC</th>\n",
       "      <th>0B9GCUVV</th>\n",
       "      <th>...</th>\n",
       "      <th>ZQNGGY33</th>\n",
       "      <th>ZSHS4VJZ</th>\n",
       "      <th>ZT1IP3T6</th>\n",
       "      <th>ZU6860XU</th>\n",
       "      <th>ZU6TVFFU</th>\n",
       "      <th>ZU75P59K</th>\n",
       "      <th>ZUI6TDWV</th>\n",
       "      <th>ZWFD8OHC</th>\n",
       "      <th>ZX06ZDZN</th>\n",
       "      <th>ZZJVE4HO</th>\n",
       "    </tr>\n",
       "  </thead>\n",
       "  <tbody>\n",
       "    <tr>\n",
       "      <td>0</td>\n",
       "      <td>9ZIMC</td>\n",
       "      <td>0.0</td>\n",
       "      <td>0.0</td>\n",
       "      <td>0.0</td>\n",
       "      <td>0.0</td>\n",
       "      <td>0.0</td>\n",
       "      <td>0.0</td>\n",
       "      <td>0.0</td>\n",
       "      <td>0.0</td>\n",
       "      <td>0.0</td>\n",
       "      <td>...</td>\n",
       "      <td>0.0</td>\n",
       "      <td>0.0</td>\n",
       "      <td>0.0</td>\n",
       "      <td>0.0</td>\n",
       "      <td>0.0</td>\n",
       "      <td>0.0</td>\n",
       "      <td>0.0</td>\n",
       "      <td>0.0</td>\n",
       "      <td>0.0</td>\n",
       "      <td>0.0</td>\n",
       "    </tr>\n",
       "    <tr>\n",
       "      <td>1</td>\n",
       "      <td>5SAQC</td>\n",
       "      <td>0.0</td>\n",
       "      <td>0.0</td>\n",
       "      <td>0.0</td>\n",
       "      <td>0.0</td>\n",
       "      <td>0.0</td>\n",
       "      <td>0.0</td>\n",
       "      <td>0.0</td>\n",
       "      <td>0.0</td>\n",
       "      <td>0.0</td>\n",
       "      <td>...</td>\n",
       "      <td>0.0</td>\n",
       "      <td>0.0</td>\n",
       "      <td>0.0</td>\n",
       "      <td>0.0</td>\n",
       "      <td>0.0</td>\n",
       "      <td>0.0</td>\n",
       "      <td>0.0</td>\n",
       "      <td>0.0</td>\n",
       "      <td>0.0</td>\n",
       "      <td>0.0</td>\n",
       "    </tr>\n",
       "    <tr>\n",
       "      <td>2</td>\n",
       "      <td>E7QRO</td>\n",
       "      <td>0.0</td>\n",
       "      <td>0.0</td>\n",
       "      <td>0.0</td>\n",
       "      <td>0.0</td>\n",
       "      <td>0.0</td>\n",
       "      <td>0.0</td>\n",
       "      <td>0.0</td>\n",
       "      <td>0.0</td>\n",
       "      <td>0.0</td>\n",
       "      <td>...</td>\n",
       "      <td>0.0</td>\n",
       "      <td>0.0</td>\n",
       "      <td>0.0</td>\n",
       "      <td>0.0</td>\n",
       "      <td>0.0</td>\n",
       "      <td>0.0</td>\n",
       "      <td>0.0</td>\n",
       "      <td>0.0</td>\n",
       "      <td>0.0</td>\n",
       "      <td>0.0</td>\n",
       "    </tr>\n",
       "    <tr>\n",
       "      <td>3</td>\n",
       "      <td>CT5FP</td>\n",
       "      <td>0.0</td>\n",
       "      <td>0.0</td>\n",
       "      <td>0.0</td>\n",
       "      <td>0.0</td>\n",
       "      <td>0.0</td>\n",
       "      <td>0.0</td>\n",
       "      <td>0.0</td>\n",
       "      <td>0.0</td>\n",
       "      <td>0.0</td>\n",
       "      <td>...</td>\n",
       "      <td>0.0</td>\n",
       "      <td>0.0</td>\n",
       "      <td>0.0</td>\n",
       "      <td>0.0</td>\n",
       "      <td>0.0</td>\n",
       "      <td>0.0</td>\n",
       "      <td>0.0</td>\n",
       "      <td>0.0</td>\n",
       "      <td>0.0</td>\n",
       "      <td>0.0</td>\n",
       "    </tr>\n",
       "    <tr>\n",
       "      <td>4</td>\n",
       "      <td>7PTD8</td>\n",
       "      <td>0.0</td>\n",
       "      <td>0.0</td>\n",
       "      <td>0.0</td>\n",
       "      <td>0.0</td>\n",
       "      <td>0.0</td>\n",
       "      <td>0.0</td>\n",
       "      <td>0.0</td>\n",
       "      <td>0.0</td>\n",
       "      <td>0.0</td>\n",
       "      <td>...</td>\n",
       "      <td>0.0</td>\n",
       "      <td>0.0</td>\n",
       "      <td>0.0</td>\n",
       "      <td>0.0</td>\n",
       "      <td>0.0</td>\n",
       "      <td>0.0</td>\n",
       "      <td>0.0</td>\n",
       "      <td>0.0</td>\n",
       "      <td>0.0</td>\n",
       "      <td>0.0</td>\n",
       "    </tr>\n",
       "  </tbody>\n",
       "</table>\n",
       "<p>5 rows × 1315 columns</p>\n",
       "</div>"
      ],
      "text/plain": [
       "  sequence_id  00Q4V31T  012VT4JK  028IO5W2  03GRNN7N  03Y3W51H  09MQV1TY  \\\n",
       "0       9ZIMC       0.0       0.0       0.0       0.0       0.0       0.0   \n",
       "1       5SAQC       0.0       0.0       0.0       0.0       0.0       0.0   \n",
       "2       E7QRO       0.0       0.0       0.0       0.0       0.0       0.0   \n",
       "3       CT5FP       0.0       0.0       0.0       0.0       0.0       0.0   \n",
       "4       7PTD8       0.0       0.0       0.0       0.0       0.0       0.0   \n",
       "\n",
       "   0A4AHRCT  0A9M05NC  0B9GCUVV  ...  ZQNGGY33  ZSHS4VJZ  ZT1IP3T6  ZU6860XU  \\\n",
       "0       0.0       0.0       0.0  ...       0.0       0.0       0.0       0.0   \n",
       "1       0.0       0.0       0.0  ...       0.0       0.0       0.0       0.0   \n",
       "2       0.0       0.0       0.0  ...       0.0       0.0       0.0       0.0   \n",
       "3       0.0       0.0       0.0  ...       0.0       0.0       0.0       0.0   \n",
       "4       0.0       0.0       0.0  ...       0.0       0.0       0.0       0.0   \n",
       "\n",
       "   ZU6TVFFU  ZU75P59K  ZUI6TDWV  ZWFD8OHC  ZX06ZDZN  ZZJVE4HO  \n",
       "0       0.0       0.0       0.0       0.0       0.0       0.0  \n",
       "1       0.0       0.0       0.0       0.0       0.0       0.0  \n",
       "2       0.0       0.0       0.0       0.0       0.0       0.0  \n",
       "3       0.0       0.0       0.0       0.0       0.0       0.0  \n",
       "4       0.0       0.0       0.0       0.0       0.0       0.0  \n",
       "\n",
       "[5 rows x 1315 columns]"
      ]
     },
     "execution_count": 6,
     "metadata": {},
     "output_type": "execute_result"
    }
   ],
   "source": [
    "train_labels = pd.read_csv('train_labels.csv')\n",
    "train_labels.shape\n",
    "train_labels.head()"
   ]
  },
  {
   "cell_type": "code",
   "execution_count": 7,
   "metadata": {
    "ExecuteTime": {
     "end_time": "2020-09-04T11:47:24.769357Z",
     "start_time": "2020-09-04T11:47:24.456409Z"
    }
   },
   "outputs": [
    {
     "data": {
      "text/plain": [
       "(63017,)"
      ]
     },
     "execution_count": 7,
     "metadata": {},
     "output_type": "execute_result"
    }
   ],
   "source": [
    "y = np.where(train_labels.drop('sequence_id', axis=1).values==1.0)[1]\n",
    "y.shape"
   ]
  },
  {
   "cell_type": "code",
   "execution_count": 8,
   "metadata": {},
   "outputs": [],
   "source": [
    "# unique, counts = np.unique(y, return_counts=True)\n",
    "# dict(zip(unique, counts))"
   ]
  },
  {
   "cell_type": "code",
   "execution_count": 9,
   "metadata": {},
   "outputs": [],
   "source": [
    "skf = StratifiedKFold(n_splits=5, shuffle=True, random_state=2020)\n"
   ]
  },
  {
   "cell_type": "code",
   "execution_count": 10,
   "metadata": {},
   "outputs": [],
   "source": [
    "# fold_n = 0\n",
    "# for train_index, test_index in skf.split(train_data, y):\n",
    "#     #print(fold_n)\n",
    "#     #print(\"TRAIN:\", train_index, \"TEST:\", test_index)\n",
    "#     X_train, X_test = train_data.loc[train_index], train_data.loc[test_index]\n",
    "#     y_train, y_test = y[train_index], y[test_index]\n",
    "#     fold_n +=1\n",
    "#     if fold_n == 0:\n",
    "#         break"
   ]
  },
  {
   "cell_type": "code",
   "execution_count": 11,
   "metadata": {},
   "outputs": [],
   "source": [
    "X_train, X_test, y_train, y_test = train_test_split(train_data, y, random_state=2020, test_size=0.2)"
   ]
  },
  {
   "cell_type": "code",
   "execution_count": 12,
   "metadata": {},
   "outputs": [
    {
     "data": {
      "text/plain": [
       "(50413, 12604, 63017)"
      ]
     },
     "execution_count": 12,
     "metadata": {},
     "output_type": "execute_result"
    }
   ],
   "source": [
    "X_train.shape[0], X_test.shape[0], train_data.shape[0]"
   ]
  },
  {
   "cell_type": "markdown",
   "metadata": {},
   "source": [
    "## Preprocess for NN"
   ]
  },
  {
   "cell_type": "code",
   "execution_count": 13,
   "metadata": {},
   "outputs": [
    {
     "data": {
      "text/plain": [
       "array([[1., 0., 0., ..., 0., 0., 0.],\n",
       "       [1., 0., 0., ..., 0., 0., 1.],\n",
       "       [0., 0., 1., ..., 0., 0., 0.],\n",
       "       ...,\n",
       "       [1., 0., 0., ..., 0., 0., 0.],\n",
       "       [1., 0., 0., ..., 0., 0., 0.],\n",
       "       [1., 0., 0., ..., 0., 0., 0.]])"
      ]
     },
     "execution_count": 13,
     "metadata": {},
     "output_type": "execute_result"
    }
   ],
   "source": [
    "X_train_one_hot = np.array(X_train.drop(['sequence', 'sequence_id'], axis=1).values)\n",
    "X_train_one_hot"
   ]
  },
  {
   "cell_type": "code",
   "execution_count": 14,
   "metadata": {},
   "outputs": [
    {
     "data": {
      "text/plain": [
       "array([[1., 0., 0., ..., 1., 0., 0.],\n",
       "       [1., 0., 0., ..., 0., 0., 0.],\n",
       "       [1., 0., 0., ..., 0., 0., 0.],\n",
       "       ...,\n",
       "       [0., 0., 1., ..., 0., 0., 0.],\n",
       "       [0., 0., 0., ..., 0., 0., 0.],\n",
       "       [0., 0., 1., ..., 0., 0., 0.]])"
      ]
     },
     "execution_count": 14,
     "metadata": {},
     "output_type": "execute_result"
    }
   ],
   "source": [
    "X_test_one_hot = np.array(X_test.drop(['sequence', 'sequence_id'], axis=1).values)\n",
    "X_test_one_hot"
   ]
  },
  {
   "cell_type": "code",
   "execution_count": 15,
   "metadata": {
    "ExecuteTime": {
     "end_time": "2020-09-04T11:47:24.773270Z",
     "start_time": "2020-09-04T11:47:24.770721Z"
    }
   },
   "outputs": [],
   "source": [
    "def letter2index(s):\n",
    "    d = {'A':5, 'C':1, 'G':2, 'N':3, 'T':4}\n",
    "    result = []\n",
    "    for l in s:\n",
    "        result.append(d[l])\n",
    "    return np.array(result)"
   ]
  },
  {
   "cell_type": "code",
   "execution_count": null,
   "metadata": {},
   "outputs": [],
   "source": []
  },
  {
   "cell_type": "code",
   "execution_count": 16,
   "metadata": {
    "ExecuteTime": {
     "end_time": "2020-09-04T11:47:56.127307Z",
     "start_time": "2020-09-04T11:47:24.775050Z"
    }
   },
   "outputs": [],
   "source": [
    "encoded_sequence_train = X_train.sequence.apply(lambda x: letter2index(x))\n",
    "encoded_sequence_val = X_test.sequence.apply(lambda x: letter2index(x))"
   ]
  },
  {
   "cell_type": "code",
   "execution_count": 17,
   "metadata": {
    "ExecuteTime": {
     "end_time": "2020-09-04T11:47:56.131219Z",
     "start_time": "2020-09-04T11:47:56.128431Z"
    }
   },
   "outputs": [
    {
     "data": {
      "text/plain": [
       "(12604,)"
      ]
     },
     "execution_count": 17,
     "metadata": {},
     "output_type": "execute_result"
    }
   ],
   "source": [
    "encoded_sequence_train.shape,\n",
    "encoded_sequence_val.shape"
   ]
  },
  {
   "cell_type": "code",
   "execution_count": 18,
   "metadata": {
    "ExecuteTime": {
     "end_time": "2020-09-04T11:47:57.642545Z",
     "start_time": "2020-09-04T11:47:57.180894Z"
    }
   },
   "outputs": [],
   "source": [
    "padded_sequence_train = pad_sequences(encoded_sequence_train, maxlen=5000)\n",
    "padded_sequence_val = pad_sequences(encoded_sequence_val, maxlen=5000)"
   ]
  },
  {
   "cell_type": "code",
   "execution_count": 19,
   "metadata": {
    "ExecuteTime": {
     "end_time": "2020-09-04T11:47:57.646393Z",
     "start_time": "2020-09-04T11:47:57.643779Z"
    }
   },
   "outputs": [
    {
     "data": {
      "text/plain": [
       "(12604, 5000)"
      ]
     },
     "execution_count": 19,
     "metadata": {},
     "output_type": "execute_result"
    }
   ],
   "source": [
    "padded_sequence_train.shape,\n",
    "padded_sequence_val.shape"
   ]
  },
  {
   "cell_type": "code",
   "execution_count": 20,
   "metadata": {
    "ExecuteTime": {
     "end_time": "2020-09-04T11:47:58.155066Z",
     "start_time": "2020-09-04T11:47:57.654583Z"
    }
   },
   "outputs": [],
   "source": [
    "import torch \n",
    "\n",
    "X_train = torch.LongTensor(padded_sequence_train)\n",
    "y_train = torch.LongTensor(y_train)\n",
    "\n",
    "X_test = torch.LongTensor(padded_sequence_val)\n",
    "y_test = torch.LongTensor(y_test)\n",
    "\n",
    "X_test_one_hot = torch.FloatTensor(X_test_one_hot)\n",
    "X_train_one_hot = torch.FloatTensor(X_train_one_hot)"
   ]
  },
  {
   "cell_type": "code",
   "execution_count": 21,
   "metadata": {
    "ExecuteTime": {
     "end_time": "2020-09-04T11:47:58.464311Z",
     "start_time": "2020-09-04T11:47:58.461887Z"
    }
   },
   "outputs": [
    {
     "data": {
      "text/plain": [
       "(torch.Size([50413, 5000]), torch.Size([50413, 39]), torch.Size([12604]))"
      ]
     },
     "execution_count": 21,
     "metadata": {},
     "output_type": "execute_result"
    }
   ],
   "source": [
    "X_train.shape, X_train_one_hot.shape, y_test.shape"
   ]
  },
  {
   "cell_type": "code",
   "execution_count": 22,
   "metadata": {
    "ExecuteTime": {
     "end_time": "2020-09-04T12:00:28.287691Z",
     "start_time": "2020-09-04T12:00:28.277868Z"
    }
   },
   "outputs": [
    {
     "data": {
      "text/plain": [
       "tensor(1313)"
      ]
     },
     "execution_count": 22,
     "metadata": {},
     "output_type": "execute_result"
    }
   ],
   "source": [
    "y_test.max()"
   ]
  },
  {
   "cell_type": "markdown",
   "metadata": {},
   "source": [
    "## Simple NN"
   ]
  },
  {
   "cell_type": "code",
   "execution_count": 23,
   "metadata": {
    "ExecuteTime": {
     "end_time": "2020-09-04T11:47:58.476043Z",
     "start_time": "2020-09-04T11:47:58.472957Z"
    }
   },
   "outputs": [],
   "source": [
    "import torch\n",
    "import torch.nn.functional as F"
   ]
  },
  {
   "cell_type": "code",
   "execution_count": 24,
   "metadata": {
    "ExecuteTime": {
     "end_time": "2020-09-04T11:47:58.485473Z",
     "start_time": "2020-09-04T11:47:58.477525Z"
    }
   },
   "outputs": [],
   "source": [
    "class MyCNN(torch.nn.Module):\n",
    "    \n",
    "    def __init__(self):\n",
    "        super().__init__()\n",
    "        n_channels = 100\n",
    "        self.emb = torch.nn.Embedding(num_embeddings=6, embedding_dim=20)\n",
    "        self.conv1 = torch.nn.Conv1d(in_channels=20, out_channels=n_channels, kernel_size=50)\n",
    "        self.conv2 = torch.nn.Conv1d(in_channels=20, out_channels=n_channels, kernel_size=5)\n",
    "        self.conv3 = torch.nn.Conv1d(in_channels=20, out_channels=n_channels, kernel_size=25)\n",
    "        self.conv4 = torch.nn.Conv1d(in_channels=20, out_channels=n_channels, kernel_size=80)\n",
    "        self.conv5 = torch.nn.Conv1d(in_channels=20, out_channels=n_channels, kernel_size=10)\n",
    "        #self.conv6 = torch.nn.Conv1d(in_channels=20, out_channels=n_channels, kernel_size=40)\n",
    "        \n",
    "        self.bn1 = torch.nn.BatchNorm1d(n_channels)\n",
    "        self.bn0 = torch.nn.BatchNorm1d(20)\n",
    "        self.bn2 = torch.nn.BatchNorm1d(n_channels)\n",
    "        self.bn3 = torch.nn.BatchNorm1d(n_channels)\n",
    "        self.bn4 = torch.nn.BatchNorm1d(n_channels)\n",
    "        self.bn5 = torch.nn.BatchNorm1d(n_channels)\n",
    "        self.bn6 = torch.nn.BatchNorm1d(n_channels)\n",
    "        self.do1 = torch.nn.Dropout(0.2)\n",
    "        self.do2 = torch.nn.Dropout(0.2)\n",
    "        self.do3 = torch.nn.Dropout(0.2)\n",
    "        self.do4 = torch.nn.Dropout(0.2)\n",
    "        self.do5 = torch.nn.Dropout(0.2)\n",
    "        self.do = torch.nn.Dropout(0.1)\n",
    "        self.dense_for_one_hot = torch.nn.Linear(39, 8)\n",
    "        self.dense = torch.nn.Linear(n_channels*5+8, 1314)\n",
    "        \n",
    "    def forward(self, x, y):\n",
    "        #print(x.shape)\n",
    "        x = self.emb(x).transpose(-1, -2)\n",
    "        x = self.bn0(x)\n",
    "        #print(x.shape)\n",
    "        \n",
    "        x1 = F.relu(self.conv1(x))\n",
    "        x1 = self.bn1(x1)\n",
    "        x1 = F.max_pool2d(x1, kernel_size=(1, x1.size()[-1]))\n",
    "        x1 = self.do1(x1)\n",
    "        #print('first conv ', x1.shape)\n",
    "        \n",
    "        x2 = F.relu(self.conv2(x))\n",
    "        x2 = self.bn2(x2) \n",
    "        x2 = F.max_pool2d(x2, kernel_size=(1, x2.size()[-1]))\n",
    "        x2 = self.do2(x2)\n",
    "        \n",
    "        x3 = F.relu(self.conv3(x))\n",
    "        x3 = self.bn3(x3) \n",
    "        x3 = F.max_pool2d(x3, kernel_size=(1, x3.size()[-1]))\n",
    "        x3 = self.do3(x3)\n",
    "\n",
    "        x4 = F.relu(self.conv4(x))\n",
    "        x4 = self.bn4(x4)\n",
    "        x4 = F.max_pool2d(x4, kernel_size=(1, x4.size()[-1]))\n",
    "        x4 = self.do4(x4)\n",
    "        \n",
    "        x5 = F.relu(self.conv5(x))\n",
    "        x5 = self.bn5(x5)\n",
    "        x5 = F.max_pool2d(x5, kernel_size=(1, x5.size()[-1]))\n",
    "        x5 = self.do5(x5)\n",
    "#         x6 = F.relu(self.conv6(x))\n",
    "#         x6 = self.bn6(x6)  \n",
    "#         x6 = F.max_pool2d(x6, kernel_size=(1, x6.size()[-1]))\n",
    "        \n",
    "        x = torch.cat([x1, x2, x3, x5, x4], dim=2)\n",
    "        #print('after cat ', x.shape)\n",
    "        x = x.reshape((x.shape[0], -1))\n",
    "        \n",
    "        y = self.dense_for_one_hot(y)\n",
    "        y = y.reshape((y.shape[0], -1))\n",
    "        \n",
    "        x = torch.cat([x, y], dim=1)\n",
    "        #print('after reshape ', x.shape)\n",
    "        x = self.do(x)\n",
    "        x = self.dense(x)\n",
    "        # x = F.softmax(x, dim=-1)\n",
    "        \n",
    "        return x"
   ]
  },
  {
   "cell_type": "code",
   "execution_count": 25,
   "metadata": {
    "ExecuteTime": {
     "end_time": "2020-09-04T11:47:58.498559Z",
     "start_time": "2020-09-04T11:47:58.492169Z"
    }
   },
   "outputs": [],
   "source": [
    "model = MyCNN()"
   ]
  },
  {
   "cell_type": "code",
   "execution_count": 26,
   "metadata": {
    "ExecuteTime": {
     "end_time": "2020-09-04T11:47:58.570869Z",
     "start_time": "2020-09-04T11:47:58.499768Z"
    }
   },
   "outputs": [
    {
     "data": {
      "text/plain": [
       "tensor([[-3.6044, -0.2966, -0.5563,  ...,  3.5109, -1.3719, -0.9457],\n",
       "        [-1.8357, -4.1701,  0.2212,  ...,  2.5195, -3.5180, -2.0002]],\n",
       "       grad_fn=<AddmmBackward>)"
      ]
     },
     "execution_count": 26,
     "metadata": {},
     "output_type": "execute_result"
    }
   ],
   "source": [
    "model(X_train[0:2], X_train_one_hot[0:2])"
   ]
  },
  {
   "cell_type": "code",
   "execution_count": 27,
   "metadata": {
    "ExecuteTime": {
     "end_time": "2020-09-04T11:47:59.979850Z",
     "start_time": "2020-09-04T11:47:58.579402Z"
    }
   },
   "outputs": [
    {
     "data": {
      "text/plain": [
       "MyCNN(\n",
       "  (emb): Embedding(6, 20)\n",
       "  (conv1): Conv1d(20, 100, kernel_size=(50,), stride=(1,))\n",
       "  (conv2): Conv1d(20, 100, kernel_size=(5,), stride=(1,))\n",
       "  (conv3): Conv1d(20, 100, kernel_size=(25,), stride=(1,))\n",
       "  (conv4): Conv1d(20, 100, kernel_size=(80,), stride=(1,))\n",
       "  (conv5): Conv1d(20, 100, kernel_size=(10,), stride=(1,))\n",
       "  (bn1): BatchNorm1d(100, eps=1e-05, momentum=0.1, affine=True, track_running_stats=True)\n",
       "  (bn0): BatchNorm1d(20, eps=1e-05, momentum=0.1, affine=True, track_running_stats=True)\n",
       "  (bn2): BatchNorm1d(100, eps=1e-05, momentum=0.1, affine=True, track_running_stats=True)\n",
       "  (bn3): BatchNorm1d(100, eps=1e-05, momentum=0.1, affine=True, track_running_stats=True)\n",
       "  (bn4): BatchNorm1d(100, eps=1e-05, momentum=0.1, affine=True, track_running_stats=True)\n",
       "  (bn5): BatchNorm1d(100, eps=1e-05, momentum=0.1, affine=True, track_running_stats=True)\n",
       "  (bn6): BatchNorm1d(100, eps=1e-05, momentum=0.1, affine=True, track_running_stats=True)\n",
       "  (do1): Dropout(p=0.2)\n",
       "  (do2): Dropout(p=0.2)\n",
       "  (do3): Dropout(p=0.2)\n",
       "  (do4): Dropout(p=0.2)\n",
       "  (do5): Dropout(p=0.2)\n",
       "  (do): Dropout(p=0.1)\n",
       "  (dense_for_one_hot): Linear(in_features=39, out_features=8, bias=True)\n",
       "  (dense): Linear(in_features=508, out_features=1314, bias=True)\n",
       ")"
      ]
     },
     "execution_count": 27,
     "metadata": {},
     "output_type": "execute_result"
    }
   ],
   "source": [
    "model.cuda()"
   ]
  },
  {
   "cell_type": "code",
   "execution_count": 28,
   "metadata": {},
   "outputs": [],
   "source": [
    "\n",
    "def lr_sheduler(mse, optimizer, top10auc):\n",
    "    global mse_min\n",
    "    global change_lr\n",
    "    global early_stopping_criteria\n",
    "    global change_lr_treshhold\n",
    "    global lr_reduce_parametr\n",
    "    print('=====================')\n",
    "    if mse > mse_min:\n",
    "        change_lr = 0\n",
    "        print(\"Loss improved from {} to {}\".format(mse_min, mse))\n",
    "        print('=====================')\n",
    "        mse_min = mse\n",
    "        torch.save(model.state_dict(), 'Models/kfold0_{}_{}.h5'.format(np.round(mse, 3), np.round(top10auc, 3)))\n",
    "        torch.save(optimizer.state_dict(), 'Models/kfold0.dict')\n",
    "    else:\n",
    "        print(\"Loss not improved \", mse)\n",
    "        change_lr+=1\n",
    "        print('loss not getting better for {} epochs'.format(change_lr))\n",
    "        if change_lr % change_lr_treshhold == 0:\n",
    "            for g in optimizer.param_groups:\n",
    "                g['lr'] = g['lr'] * lr_reduce_parametr\n",
    "            print('lr reduced by {}'.format(lr_reduce_parametr))\n",
    "        print('=====================')\n",
    "        if change_lr == early_stopping_criteria:\n",
    "            return True\n",
    "        return False"
   ]
  },
  {
   "cell_type": "code",
   "execution_count": 29,
   "metadata": {
    "ExecuteTime": {
     "end_time": "2020-09-04T12:11:26.586249Z",
     "start_time": "2020-09-04T12:11:26.584131Z"
    }
   },
   "outputs": [],
   "source": [
    "bs = 32\n",
    "epochs = 25"
   ]
  },
  {
   "cell_type": "code",
   "execution_count": 30,
   "metadata": {},
   "outputs": [],
   "source": [
    "best_val_loss = 1e7\n",
    "change_lr = 0\n",
    "\n",
    "plot_loss_train = []\n",
    "plot_loss_val = []\n",
    "\n",
    "train_losses = []\n",
    "val_losses = []\n",
    "train_accs = []\n",
    "val_accs = []\n",
    "mse_min = 1e-10\n",
    "\n",
    "lr_reduce_parametr = 0.1\n",
    "change_lr_treshhold = 2\n",
    "early_stopping_criteria = 5\n"
   ]
  },
  {
   "cell_type": "code",
   "execution_count": 31,
   "metadata": {
    "ExecuteTime": {
     "end_time": "2020-09-04T12:19:09.575987Z",
     "start_time": "2020-09-04T12:11:26.867856Z"
    }
   },
   "outputs": [
    {
     "name": "stdout",
     "output_type": "stream",
     "text": [
      "0 0.006329004196893601\n",
      "200 0.7736651717291936\n",
      "400 1.4560081578814799\n",
      "600 2.081651418019853\n",
      "800 2.6650254231407504\n",
      "1000 3.2235167930239683\n",
      "1200 3.753159333335021\n",
      "1400 4.259786407531247\n",
      "=====================\n",
      "Loss improved from 1e-10 to 0.6270674300254451\n",
      "=====================\n",
      "0 4.6788626384735075 3.5495398602716195 0.40521628498727735 0.6270674300254451\n",
      "0 0.0022871392870706226\n",
      "200 0.45907287643069317\n",
      "400 0.9009455786810983\n",
      "600 1.3213174984947094\n",
      "800 1.7268109986138729\n",
      "1000 2.1271360923373512\n",
      "1200 2.5121616666279127\n",
      "1400 2.886380187670389\n",
      "=====================\n",
      "Loss improved from 0.6270674300254451 to 0.7339376590330785\n",
      "=====================\n",
      "1 3.2107416084834495 2.8098828877504882 0.48640267175572593 0.7339376590330785\n",
      "0 0.0018322635832287017\n",
      "200 0.35838538351513083\n",
      "400 0.7065398451638597\n",
      "600 1.0439173622736853\n",
      "800 1.3705632445925753\n",
      "1000 1.6970857893474514\n",
      "1200 2.0084078218066512\n",
      "1400 2.3130897070112706\n",
      "=====================\n",
      "Loss improved from 0.7339376590330785 to 0.7858619592875318\n",
      "=====================\n",
      "2 2.5801081032223183 2.389353377825132 0.5414281170483465 0.7858619592875318\n",
      "0 0.0017279903472415985\n",
      "200 0.2961713605456885\n",
      "400 0.5856615799192401\n",
      "600 0.8653531478700183\n",
      "800 1.141134148249551\n",
      "1000 1.4204957102972373\n",
      "1200 1.6864888127644875\n",
      "1400 1.9430634045222464\n",
      "=====================\n",
      "Loss improved from 0.7858619592875318 to 0.8174300254452926\n",
      "=====================\n",
      "3 2.1713174864224043 2.116255224206065 0.5925572519083966 0.8174300254452926\n",
      "0 0.0014203689211890812\n",
      "200 0.25280907661195773\n",
      "400 0.5017517151151384\n",
      "600 0.743954274767921\n",
      "800 0.980655047363705\n",
      "1000 1.2227708604600709\n",
      "1200 1.4509090291886104\n",
      "1400 1.6743622633010633\n",
      "=====================\n",
      "Loss improved from 0.8174300254452926 to 0.8394561068702292\n",
      "=====================\n",
      "4 1.8767640544876236 1.9519420810631536 0.6219783715012726 0.8394561068702292\n",
      "0 0.0010987886549934508\n",
      "200 0.2216550023972043\n",
      "400 0.43908503172889585\n",
      "600 0.6506149805538235\n",
      "800 0.8604888221574211\n",
      "1000 1.0758745529159681\n",
      "1200 1.2778484229814444\n",
      "1400 1.4758950922981147\n",
      "=====================\n",
      "Loss improved from 0.8394561068702292 to 0.8548823155216299\n",
      "=====================\n",
      "5 1.6551569183667494 1.817398627447414 0.6479802798982188 0.8548823155216299\n",
      "0 0.0010998776602366613\n",
      "200 0.19510111634693442\n",
      "400 0.38640023046069666\n",
      "600 0.5760124970239309\n",
      "800 0.761059375339084\n",
      "1000 0.9582246337618149\n",
      "1200 1.1462716836777949\n",
      "1400 1.3261368992971998\n",
      "=====================\n",
      "Loss improved from 0.8548823155216299 to 0.8637881679389325\n",
      "=====================\n",
      "6 1.4843558171060343 1.7156409774421126 0.6676208651399486 0.8637881679389325\n",
      "0 0.0009904184038676913\n",
      "200 0.17592859446056303\n",
      "400 0.34627909281897157\n",
      "600 0.5162345295860654\n",
      "800 0.6835493824595494\n",
      "1000 0.8582247406717328\n",
      "1200 1.0237190421422324\n",
      "1400 1.1836589860537694\n",
      "=====================\n",
      "Loss improved from 0.8637881679389325 to 0.8713422391857525\n",
      "=====================\n",
      "7 1.331331671570974 1.666065971663283 0.6762881679389308 0.8713422391857525\n",
      "0 0.0007206700340149895\n",
      "200 0.16093365652220595\n",
      "400 0.3145552675118525\n",
      "600 0.46657929526435044\n",
      "800 0.6161544341321984\n",
      "1000 0.7761683680708459\n",
      "1200 0.9240129235623399\n",
      "1400 1.0704909216411564\n",
      "=====================\n",
      "Loss improved from 0.8713422391857525 to 0.8801685750636145\n",
      "=====================\n",
      "8 1.1998952679407084 1.5940021432689746 0.6919529262086512 0.8801685750636145\n",
      "0 0.0006406784814501565\n",
      "200 0.14557267938341417\n",
      "400 0.286646596098703\n",
      "600 0.4271600808416093\n",
      "800 0.5639110467358234\n",
      "1000 0.7120270603800565\n",
      "1200 0.8500250590415217\n",
      "1400 0.9826375511525154\n",
      "=====================\n",
      "Loss improved from 0.8801685750636145 to 0.8866094147582712\n",
      "=====================\n",
      "9 1.1039504458412273 1.5336201935627365 0.697041984732824 0.8866094147582712\n",
      "0 0.0006591942196800595\n",
      "200 0.1327347775300344\n",
      "400 0.25917893691668425\n",
      "600 0.3867998235377056\n",
      "800 0.5107504745324457\n",
      "1000 0.645851465804236\n",
      "1200 0.7718115515179103\n",
      "1400 0.8945965993593608\n",
      "=====================\n",
      "Loss improved from 0.8866094147582712 to 0.8893924936386781\n",
      "=====================\n",
      "10 1.0030592802971126 1.5045538894244428 0.7096851145038159 0.8893924936386781\n",
      "0 0.0005239843565320212\n",
      "200 0.1225966493099455\n",
      "400 0.2410976559585996\n",
      "600 0.35621062870063497\n",
      "800 0.4716798311424638\n",
      "1000 0.5976686417914572\n",
      "1200 0.7149272400661122\n",
      "1400 0.8297568863866823\n",
      "=====================\n",
      "Loss improved from 0.8893924936386781 to 0.8944020356234114\n",
      "=====================\n",
      "11 0.9325021566616163 1.465558251351801 0.7130248091603046 0.8944020356234114\n",
      "0 0.0005794275753081791\n",
      "200 0.11506291154831179\n",
      "400 0.2236515620019701\n",
      "600 0.3331489976247154\n",
      "800 0.43896200821513287\n",
      "1000 0.55385136916524\n",
      "1200 0.6616749050314473\n",
      "1400 0.7666582377751684\n",
      "=====================\n",
      "Loss not improved  0.8942430025445314\n",
      "loss not getting better for 1 epochs\n",
      "=====================\n",
      "12 0.8608503914447068 1.4570183603818183 0.7197041984732819 0.8942430025445314\n",
      "0 0.0005637562842596144\n",
      "200 0.10594416875687858\n",
      "400 0.20817441921385504\n",
      "600 0.3072238526647054\n",
      "800 0.40634973620611464\n",
      "1000 0.5136332702731323\n",
      "1200 0.614305299037978\n",
      "1400 0.7114601696578274\n",
      "=====================\n",
      "Loss improved from 0.8944020356234114 to 0.8968670483460581\n",
      "=====================\n",
      "13 0.8002294457431816 1.428094312434889 0.7273377862595413 0.8968670483460581\n",
      "0 0.0005620586682879735\n",
      "200 0.09926591972510022\n",
      "400 0.1955396454674856\n",
      "600 0.28818373927994384\n",
      "800 0.3803071745047496\n",
      "1000 0.48185504368373355\n",
      "1200 0.5760073437387986\n",
      "1400 0.669561486452345\n",
      "=====================\n",
      "Loss improved from 0.8968670483460581 to 0.8989344783715033\n",
      "=====================\n",
      "14 0.7513143054833497 1.4198984189797899 0.7354484732824421 0.8989344783715033\n",
      "0 0.00035670503737434507\n",
      "200 0.09349020282427473\n",
      "400 0.18046702856109256\n",
      "600 0.2666986682585307\n",
      "800 0.3523749822567382\n",
      "1000 0.44557772881454927\n",
      "1200 0.5346906377304167\n",
      "1400 0.621865459879239\n",
      "=====================\n",
      "Loss improved from 0.8989344783715033 to 0.9002067430025467\n",
      "=====================\n",
      "15 0.6978793689466648 1.4123286022484762 0.7368797709923662 0.9002067430025467\n",
      "0 0.0005719844878665985\n",
      "200 0.08520814901306517\n",
      "400 0.16778860563323605\n",
      "600 0.2501133688858578\n",
      "800 0.3332020757690307\n",
      "1000 0.42259914971533297\n",
      "1200 0.5073519701711718\n",
      "1400 0.5890755763744551\n",
      "=====================\n",
      "Loss improved from 0.9002067430025467 to 0.9012404580152695\n",
      "=====================\n",
      "16 0.6651061418557924 1.385420264026895 0.7355279898218823 0.9012404580152695\n",
      "0 0.00045568367791554284\n",
      "200 0.08624880520124288\n",
      "400 0.16644161431562332\n",
      "600 0.24494904718228755\n",
      "800 0.3223098685202142\n",
      "1000 0.4061090962233997\n",
      "1200 0.48657418399103136\n",
      "1400 0.5647716473066621\n",
      "=====================\n",
      "Loss improved from 0.9012404580152695 to 0.9025922391857524\n",
      "=====================\n",
      "17 0.6327916957603565 1.402012751340564 0.7437977099236636 0.9025922391857524\n",
      "0 0.00034551359358287993\n",
      "200 0.0794444451067183\n",
      "400 0.15363272934678995\n",
      "600 0.22605261361315113\n",
      "800 0.3011954364559005\n",
      "1000 0.3835143369057817\n",
      "1200 0.4583592833413013\n",
      "1400 0.5331863962374025\n",
      "=====================\n",
      "Loss not improved  0.9013199745547091\n",
      "loss not getting better for 1 epochs\n",
      "=====================\n",
      "18 0.596344903910916 1.395245341702576 0.7460241730279904 0.9013199745547091\n",
      "0 0.0004256226524474129\n",
      "200 0.07378485497974213\n",
      "400 0.14412612192214488\n",
      "600 0.21236857532508785\n",
      "800 0.2827256319447166\n",
      "1000 0.3583726552176091\n",
      "1200 0.4305773923132148\n",
      "1400 0.5019810425099869\n",
      "=====================\n",
      "Loss improved from 0.9025922391857524 to 0.9044211195928775\n",
      "=====================\n",
      "19 0.5637468742993139 1.3722704504509908 0.7488867684478365 0.9044211195928775\n",
      "0 0.0002574747138553196\n",
      "200 0.0698629734345845\n",
      "400 0.13746293206536586\n",
      "600 0.20516602342563967\n",
      "800 0.27265561787382053\n",
      "1000 0.34642195464126707\n",
      "1200 0.41412234377293416\n",
      "1400 0.4824827008871811\n",
      "=====================\n",
      "Loss improved from 0.9044211195928775 to 0.9059319338422414\n",
      "=====================\n",
      "20 0.5412198335026951 1.3729736434139381 0.7507156488549621 0.9059319338422414\n",
      "0 0.0002637609224470835\n",
      "200 0.06589755559724478\n",
      "400 0.12979049041630739\n",
      "600 0.19327310564499073\n",
      "800 0.2584245434403419\n",
      "1000 0.32821541131015824\n",
      "1200 0.39344643432469595\n",
      "1400 0.4562923527047747\n",
      "=====================\n",
      "Loss improved from 0.9059319338422414 to 0.9068861323155243\n",
      "=====================\n",
      "21 0.5151048491540413 1.3615313953419068 0.7501590330788805 0.9068861323155243\n",
      "0 0.0003747280060298859\n",
      "200 0.06586106087007225\n",
      "400 0.1266949850770216\n",
      "600 0.18832703297809958\n",
      "800 0.24960214378105267\n",
      "1000 0.3152064594791998\n",
      "1200 0.3772681514445752\n",
      "1400 0.43761216067369024\n",
      "=====================\n",
      "Loss not improved  0.9053753180661605\n",
      "loss not getting better for 1 epochs\n",
      "=====================\n",
      "22 0.4898377781042033 1.4009906521052813 0.7552480916030532 0.9053753180661605\n",
      "0 0.0002817367750500876\n",
      "200 0.06108115533987682\n",
      "400 0.11918644140164066\n",
      "600 0.17725261108269771\n",
      "800 0.2360172897104234\n",
      "1000 0.2983671564005673\n",
      "1200 0.35905485421419187\n",
      "1400 0.41715799053037\n",
      "=====================\n",
      "Loss improved from 0.9068861323155243 to 0.9079993638676865\n",
      "=====================\n",
      "23 0.46911190927501717 1.3880384879485332 0.7572360050890579 0.9079993638676865\n",
      "0 0.00025425948793925937\n",
      "200 0.058826132359958816\n",
      "400 0.11209527789600313\n",
      "600 0.16913225937220777\n",
      "800 0.22538390971128897\n",
      "1000 0.2859451431343478\n",
      "1200 0.3436482898701748\n",
      "1400 0.3991979444334432\n",
      "=====================\n",
      "Loss not improved  0.9058524173028015\n",
      "loss not getting better for 1 epochs\n",
      "=====================\n",
      "24 0.44686318951230203 1.392900034254441 0.7580311704834605 0.9058524173028015\n"
     ]
    }
   ],
   "source": [
    "optimizer = torch.optim.Adam(model.parameters(), lr=0.001)\n",
    "\n",
    "for e in range(epochs):\n",
    "    model.train()\n",
    "    \n",
    "    train_loss = 0\n",
    "    N = len(X_train) // bs\n",
    "    for i in range(N):\n",
    "        x = X_train[i * bs: (i+1) * bs].cuda()\n",
    "        x_one_hot = X_train_one_hot[i * bs: (i+1) * bs].cuda()\n",
    "        y = y_train[i * bs: (i+1) * bs].cuda()\n",
    "        \n",
    "        y_pred = model(x, x_one_hot)\n",
    "        #print(y_pred.shape)\n",
    "        loss = torch.nn.functional.cross_entropy(y_pred, y)\n",
    "        optimizer.zero_grad()\n",
    "        loss.backward()\n",
    "        optimizer.step()\n",
    "        \n",
    "        train_loss += loss.item() / N\n",
    "        if i%200 == 0: \n",
    "            print(f\"{i} {train_loss}\")\n",
    "    \n",
    "    val_loss = 0\n",
    "    acc, acc10 = 0, 0\n",
    "    with torch.no_grad():\n",
    "        model.eval()\n",
    "        N = len(X_test) // bs\n",
    "        for i in range(N):  \n",
    "            x = X_test[i * bs: (i+1) * bs].cuda()\n",
    "            x_one_hot = X_test_one_hot[i * bs: (i+1) * bs].cuda()\n",
    "            y = y_test[i * bs: (i+1) * bs].cuda()\n",
    "\n",
    "            y_pred = model(x, x_one_hot)\n",
    "            val_loss += torch.nn.functional.cross_entropy(y_pred, y).item() / N\n",
    "            \n",
    "            y = y.cpu().numpy()\n",
    "            \n",
    "            p = y_pred.argmax(dim=-1).cpu().numpy()\n",
    "            pp = y_pred.cpu().numpy()\n",
    "            prediction_top_10 = np.argsort(pp, axis=-1)[:, -10:] \n",
    "            #print(prediction_top_10[:5], y[:5])\n",
    "            #print(p.shape, pp.shape, prediction_top_10.shape)\n",
    "            #print(top10acc(y.cpu(), prediction_top_10))\n",
    "            acc10 += top10acc(y, prediction_top_10) / N\n",
    "            acc += accuracy_score(p, y) / N\n",
    "    if lr_sheduler(acc10, optimizer,val_loss):\n",
    "        break\n",
    "\n",
    "    print(f\"{e} {train_loss} {val_loss} {acc} {acc10}\")\n",
    "    "
   ]
  },
  {
   "cell_type": "code",
   "execution_count": 32,
   "metadata": {},
   "outputs": [],
   "source": [
    "# 0.8815369897959177"
   ]
  },
  {
   "cell_type": "markdown",
   "metadata": {},
   "source": [
    "## Predict test"
   ]
  },
  {
   "cell_type": "code",
   "execution_count": 33,
   "metadata": {},
   "outputs": [],
   "source": [
    "test_data = pd.read_csv('test_values.csv')"
   ]
  },
  {
   "cell_type": "code",
   "execution_count": 34,
   "metadata": {},
   "outputs": [
    {
     "data": {
      "text/html": [
       "<div>\n",
       "<style scoped>\n",
       "    .dataframe tbody tr th:only-of-type {\n",
       "        vertical-align: middle;\n",
       "    }\n",
       "\n",
       "    .dataframe tbody tr th {\n",
       "        vertical-align: top;\n",
       "    }\n",
       "\n",
       "    .dataframe thead th {\n",
       "        text-align: right;\n",
       "    }\n",
       "</style>\n",
       "<table border=\"1\" class=\"dataframe\">\n",
       "  <thead>\n",
       "    <tr style=\"text-align: right;\">\n",
       "      <th></th>\n",
       "      <th>sequence_id</th>\n",
       "      <th>sequence</th>\n",
       "      <th>bacterial_resistance_ampicillin</th>\n",
       "      <th>bacterial_resistance_chloramphenicol</th>\n",
       "      <th>bacterial_resistance_kanamycin</th>\n",
       "      <th>bacterial_resistance_other</th>\n",
       "      <th>bacterial_resistance_spectinomycin</th>\n",
       "      <th>copy_number_high_copy</th>\n",
       "      <th>copy_number_low_copy</th>\n",
       "      <th>copy_number_unknown</th>\n",
       "      <th>...</th>\n",
       "      <th>species_budding_yeast</th>\n",
       "      <th>species_fly</th>\n",
       "      <th>species_human</th>\n",
       "      <th>species_mouse</th>\n",
       "      <th>species_mustard_weed</th>\n",
       "      <th>species_nematode</th>\n",
       "      <th>species_other</th>\n",
       "      <th>species_rat</th>\n",
       "      <th>species_synthetic</th>\n",
       "      <th>species_zebrafish</th>\n",
       "    </tr>\n",
       "  </thead>\n",
       "  <tbody>\n",
       "    <tr>\n",
       "      <td>0</td>\n",
       "      <td>E0VFT</td>\n",
       "      <td>AGATCTATACATTGAATCAATATTGGCAATTAGCCATATTAGTCAT...</td>\n",
       "      <td>1.0</td>\n",
       "      <td>0.0</td>\n",
       "      <td>0.0</td>\n",
       "      <td>0.0</td>\n",
       "      <td>0.0</td>\n",
       "      <td>0.0</td>\n",
       "      <td>0.0</td>\n",
       "      <td>1.0</td>\n",
       "      <td>...</td>\n",
       "      <td>0.0</td>\n",
       "      <td>0.0</td>\n",
       "      <td>0.0</td>\n",
       "      <td>0.0</td>\n",
       "      <td>0.0</td>\n",
       "      <td>0.0</td>\n",
       "      <td>0.0</td>\n",
       "      <td>0.0</td>\n",
       "      <td>0.0</td>\n",
       "      <td>1.0</td>\n",
       "    </tr>\n",
       "    <tr>\n",
       "      <td>1</td>\n",
       "      <td>TTRK5</td>\n",
       "      <td>GCGCGCGTTGACATTGATTATTGACTAGTTATTAATAGTAATCAAT...</td>\n",
       "      <td>0.0</td>\n",
       "      <td>0.0</td>\n",
       "      <td>0.0</td>\n",
       "      <td>1.0</td>\n",
       "      <td>0.0</td>\n",
       "      <td>1.0</td>\n",
       "      <td>0.0</td>\n",
       "      <td>0.0</td>\n",
       "      <td>...</td>\n",
       "      <td>0.0</td>\n",
       "      <td>0.0</td>\n",
       "      <td>1.0</td>\n",
       "      <td>0.0</td>\n",
       "      <td>0.0</td>\n",
       "      <td>0.0</td>\n",
       "      <td>0.0</td>\n",
       "      <td>0.0</td>\n",
       "      <td>0.0</td>\n",
       "      <td>0.0</td>\n",
       "    </tr>\n",
       "    <tr>\n",
       "      <td>2</td>\n",
       "      <td>2Z7FZ</td>\n",
       "      <td>GCTTAAGCGGTCGACGGATCGGGAGATCTCCCGATCCCCTATGGTG...</td>\n",
       "      <td>1.0</td>\n",
       "      <td>0.0</td>\n",
       "      <td>0.0</td>\n",
       "      <td>0.0</td>\n",
       "      <td>0.0</td>\n",
       "      <td>0.0</td>\n",
       "      <td>0.0</td>\n",
       "      <td>1.0</td>\n",
       "      <td>...</td>\n",
       "      <td>0.0</td>\n",
       "      <td>0.0</td>\n",
       "      <td>0.0</td>\n",
       "      <td>0.0</td>\n",
       "      <td>0.0</td>\n",
       "      <td>0.0</td>\n",
       "      <td>0.0</td>\n",
       "      <td>0.0</td>\n",
       "      <td>0.0</td>\n",
       "      <td>0.0</td>\n",
       "    </tr>\n",
       "    <tr>\n",
       "      <td>3</td>\n",
       "      <td>VJI6E</td>\n",
       "      <td>ATGATGATGATGTCCCTGAACAGCAAGCAGGCGTTTAGCATGCCGC...</td>\n",
       "      <td>0.0</td>\n",
       "      <td>0.0</td>\n",
       "      <td>0.0</td>\n",
       "      <td>0.0</td>\n",
       "      <td>1.0</td>\n",
       "      <td>1.0</td>\n",
       "      <td>0.0</td>\n",
       "      <td>0.0</td>\n",
       "      <td>...</td>\n",
       "      <td>0.0</td>\n",
       "      <td>0.0</td>\n",
       "      <td>1.0</td>\n",
       "      <td>0.0</td>\n",
       "      <td>0.0</td>\n",
       "      <td>0.0</td>\n",
       "      <td>0.0</td>\n",
       "      <td>0.0</td>\n",
       "      <td>0.0</td>\n",
       "      <td>0.0</td>\n",
       "    </tr>\n",
       "    <tr>\n",
       "      <td>4</td>\n",
       "      <td>721FI</td>\n",
       "      <td>GGTACCGAGCTCTTACGCGTGCTAGCCATACTATCAGCCACTTGTG...</td>\n",
       "      <td>1.0</td>\n",
       "      <td>0.0</td>\n",
       "      <td>0.0</td>\n",
       "      <td>0.0</td>\n",
       "      <td>0.0</td>\n",
       "      <td>1.0</td>\n",
       "      <td>0.0</td>\n",
       "      <td>0.0</td>\n",
       "      <td>...</td>\n",
       "      <td>0.0</td>\n",
       "      <td>0.0</td>\n",
       "      <td>1.0</td>\n",
       "      <td>0.0</td>\n",
       "      <td>0.0</td>\n",
       "      <td>0.0</td>\n",
       "      <td>0.0</td>\n",
       "      <td>0.0</td>\n",
       "      <td>0.0</td>\n",
       "      <td>0.0</td>\n",
       "    </tr>\n",
       "  </tbody>\n",
       "</table>\n",
       "<p>5 rows × 41 columns</p>\n",
       "</div>"
      ],
      "text/plain": [
       "  sequence_id                                           sequence  \\\n",
       "0       E0VFT  AGATCTATACATTGAATCAATATTGGCAATTAGCCATATTAGTCAT...   \n",
       "1       TTRK5  GCGCGCGTTGACATTGATTATTGACTAGTTATTAATAGTAATCAAT...   \n",
       "2       2Z7FZ  GCTTAAGCGGTCGACGGATCGGGAGATCTCCCGATCCCCTATGGTG...   \n",
       "3       VJI6E  ATGATGATGATGTCCCTGAACAGCAAGCAGGCGTTTAGCATGCCGC...   \n",
       "4       721FI  GGTACCGAGCTCTTACGCGTGCTAGCCATACTATCAGCCACTTGTG...   \n",
       "\n",
       "   bacterial_resistance_ampicillin  bacterial_resistance_chloramphenicol  \\\n",
       "0                              1.0                                   0.0   \n",
       "1                              0.0                                   0.0   \n",
       "2                              1.0                                   0.0   \n",
       "3                              0.0                                   0.0   \n",
       "4                              1.0                                   0.0   \n",
       "\n",
       "   bacterial_resistance_kanamycin  bacterial_resistance_other  \\\n",
       "0                             0.0                         0.0   \n",
       "1                             0.0                         1.0   \n",
       "2                             0.0                         0.0   \n",
       "3                             0.0                         0.0   \n",
       "4                             0.0                         0.0   \n",
       "\n",
       "   bacterial_resistance_spectinomycin  copy_number_high_copy  \\\n",
       "0                                 0.0                    0.0   \n",
       "1                                 0.0                    1.0   \n",
       "2                                 0.0                    0.0   \n",
       "3                                 1.0                    1.0   \n",
       "4                                 0.0                    1.0   \n",
       "\n",
       "   copy_number_low_copy  copy_number_unknown  ...  species_budding_yeast  \\\n",
       "0                   0.0                  1.0  ...                    0.0   \n",
       "1                   0.0                  0.0  ...                    0.0   \n",
       "2                   0.0                  1.0  ...                    0.0   \n",
       "3                   0.0                  0.0  ...                    0.0   \n",
       "4                   0.0                  0.0  ...                    0.0   \n",
       "\n",
       "   species_fly  species_human  species_mouse  species_mustard_weed  \\\n",
       "0          0.0            0.0            0.0                   0.0   \n",
       "1          0.0            1.0            0.0                   0.0   \n",
       "2          0.0            0.0            0.0                   0.0   \n",
       "3          0.0            1.0            0.0                   0.0   \n",
       "4          0.0            1.0            0.0                   0.0   \n",
       "\n",
       "   species_nematode  species_other  species_rat  species_synthetic  \\\n",
       "0               0.0            0.0          0.0                0.0   \n",
       "1               0.0            0.0          0.0                0.0   \n",
       "2               0.0            0.0          0.0                0.0   \n",
       "3               0.0            0.0          0.0                0.0   \n",
       "4               0.0            0.0          0.0                0.0   \n",
       "\n",
       "   species_zebrafish  \n",
       "0                1.0  \n",
       "1                0.0  \n",
       "2                0.0  \n",
       "3                0.0  \n",
       "4                0.0  \n",
       "\n",
       "[5 rows x 41 columns]"
      ]
     },
     "execution_count": 34,
     "metadata": {},
     "output_type": "execute_result"
    }
   ],
   "source": [
    "test_data.head()"
   ]
  },
  {
   "cell_type": "code",
   "execution_count": 35,
   "metadata": {},
   "outputs": [],
   "source": [
    "encoded_sequence_test = test_data.sequence.apply(lambda x: letter2index(x))#.values.shape"
   ]
  },
  {
   "cell_type": "code",
   "execution_count": 36,
   "metadata": {},
   "outputs": [],
   "source": [
    "padded_sequence_test = pad_sequences(encoded_sequence_test, maxlen=5000)"
   ]
  },
  {
   "cell_type": "code",
   "execution_count": 37,
   "metadata": {},
   "outputs": [],
   "source": [
    "import torch \n",
    "\n",
    "X_pred = torch.LongTensor(padded_sequence_test)\n"
   ]
  },
  {
   "cell_type": "code",
   "execution_count": null,
   "metadata": {},
   "outputs": [],
   "source": []
  },
  {
   "cell_type": "code",
   "execution_count": 38,
   "metadata": {},
   "outputs": [
    {
     "ename": "TypeError",
     "evalue": "forward() missing 1 required positional argument: 'y'",
     "output_type": "error",
     "traceback": [
      "\u001b[1;31m---------------------------------------------------------------------------\u001b[0m",
      "\u001b[1;31mTypeError\u001b[0m                                 Traceback (most recent call last)",
      "\u001b[1;32m<ipython-input-38-9914075f8a6d>\u001b[0m in \u001b[0;36m<module>\u001b[1;34m()\u001b[0m\n\u001b[0;32m      6\u001b[0m         \u001b[0mx\u001b[0m \u001b[1;33m=\u001b[0m \u001b[0mX_pred\u001b[0m\u001b[1;33m[\u001b[0m\u001b[0mi\u001b[0m \u001b[1;33m*\u001b[0m \u001b[0mbs\u001b[0m\u001b[1;33m:\u001b[0m \u001b[1;33m(\u001b[0m\u001b[0mi\u001b[0m\u001b[1;33m+\u001b[0m\u001b[1;36m1\u001b[0m\u001b[1;33m)\u001b[0m \u001b[1;33m*\u001b[0m \u001b[0mbs\u001b[0m\u001b[1;33m]\u001b[0m\u001b[1;33m.\u001b[0m\u001b[0mcuda\u001b[0m\u001b[1;33m(\u001b[0m\u001b[1;33m)\u001b[0m\u001b[1;33m\u001b[0m\u001b[0m\n\u001b[0;32m      7\u001b[0m \u001b[1;33m\u001b[0m\u001b[0m\n\u001b[1;32m----> 8\u001b[1;33m         \u001b[0my_pred\u001b[0m \u001b[1;33m=\u001b[0m \u001b[0mmodel\u001b[0m\u001b[1;33m(\u001b[0m\u001b[0mx\u001b[0m\u001b[1;33m)\u001b[0m\u001b[1;33m.\u001b[0m\u001b[0msoftmax\u001b[0m\u001b[1;33m(\u001b[0m\u001b[1;33m-\u001b[0m\u001b[1;36m1\u001b[0m\u001b[1;33m)\u001b[0m\u001b[1;33m\u001b[0m\u001b[0m\n\u001b[0m\u001b[0;32m      9\u001b[0m         \u001b[0mpp\u001b[0m \u001b[1;33m=\u001b[0m \u001b[0my_pred\u001b[0m\u001b[1;33m.\u001b[0m\u001b[0mcpu\u001b[0m\u001b[1;33m(\u001b[0m\u001b[1;33m)\u001b[0m\u001b[1;33m.\u001b[0m\u001b[0mnumpy\u001b[0m\u001b[1;33m(\u001b[0m\u001b[1;33m)\u001b[0m\u001b[1;33m\u001b[0m\u001b[0m\n\u001b[0;32m     10\u001b[0m         \u001b[0manswers\u001b[0m\u001b[1;33m.\u001b[0m\u001b[0mextend\u001b[0m\u001b[1;33m(\u001b[0m\u001b[0mpp\u001b[0m\u001b[1;33m)\u001b[0m\u001b[1;33m\u001b[0m\u001b[0m\n",
      "\u001b[1;32mD:\\Anaconda3\\lib\\site-packages\\torch\\nn\\modules\\module.py\u001b[0m in \u001b[0;36m__call__\u001b[1;34m(self, *input, **kwargs)\u001b[0m\n\u001b[0;32m    491\u001b[0m             \u001b[0mresult\u001b[0m \u001b[1;33m=\u001b[0m \u001b[0mself\u001b[0m\u001b[1;33m.\u001b[0m\u001b[0m_slow_forward\u001b[0m\u001b[1;33m(\u001b[0m\u001b[1;33m*\u001b[0m\u001b[0minput\u001b[0m\u001b[1;33m,\u001b[0m \u001b[1;33m**\u001b[0m\u001b[0mkwargs\u001b[0m\u001b[1;33m)\u001b[0m\u001b[1;33m\u001b[0m\u001b[0m\n\u001b[0;32m    492\u001b[0m         \u001b[1;32melse\u001b[0m\u001b[1;33m:\u001b[0m\u001b[1;33m\u001b[0m\u001b[0m\n\u001b[1;32m--> 493\u001b[1;33m             \u001b[0mresult\u001b[0m \u001b[1;33m=\u001b[0m \u001b[0mself\u001b[0m\u001b[1;33m.\u001b[0m\u001b[0mforward\u001b[0m\u001b[1;33m(\u001b[0m\u001b[1;33m*\u001b[0m\u001b[0minput\u001b[0m\u001b[1;33m,\u001b[0m \u001b[1;33m**\u001b[0m\u001b[0mkwargs\u001b[0m\u001b[1;33m)\u001b[0m\u001b[1;33m\u001b[0m\u001b[0m\n\u001b[0m\u001b[0;32m    494\u001b[0m         \u001b[1;32mfor\u001b[0m \u001b[0mhook\u001b[0m \u001b[1;32min\u001b[0m \u001b[0mself\u001b[0m\u001b[1;33m.\u001b[0m\u001b[0m_forward_hooks\u001b[0m\u001b[1;33m.\u001b[0m\u001b[0mvalues\u001b[0m\u001b[1;33m(\u001b[0m\u001b[1;33m)\u001b[0m\u001b[1;33m:\u001b[0m\u001b[1;33m\u001b[0m\u001b[0m\n\u001b[0;32m    495\u001b[0m             \u001b[0mhook_result\u001b[0m \u001b[1;33m=\u001b[0m \u001b[0mhook\u001b[0m\u001b[1;33m(\u001b[0m\u001b[0mself\u001b[0m\u001b[1;33m,\u001b[0m \u001b[0minput\u001b[0m\u001b[1;33m,\u001b[0m \u001b[0mresult\u001b[0m\u001b[1;33m)\u001b[0m\u001b[1;33m\u001b[0m\u001b[0m\n",
      "\u001b[1;31mTypeError\u001b[0m: forward() missing 1 required positional argument: 'y'"
     ]
    }
   ],
   "source": [
    "answers = [] \n",
    "with torch.no_grad():\n",
    "    model.eval()\n",
    "    N = len(X_pred) // bs\n",
    "    for i in range(N):  \n",
    "        x = X_pred[i * bs: (i+1) * bs].cuda()\n",
    "        \n",
    "        y_pred = model(x).softmax(-1)\n",
    "        pp = y_pred.cpu().numpy()\n",
    "        answers.extend(pp)"
   ]
  },
  {
   "cell_type": "code",
   "execution_count": null,
   "metadata": {},
   "outputs": [],
   "source": [
    "N*bs"
   ]
  },
  {
   "cell_type": "code",
   "execution_count": null,
   "metadata": {},
   "outputs": [],
   "source": [
    "answers = np.array(answers).astype('float16')\n",
    "answers.shape"
   ]
  },
  {
   "cell_type": "code",
   "execution_count": null,
   "metadata": {},
   "outputs": [],
   "source": [
    "sample_sub = pd.read_csv('submission_format_3TFRxH6.csv')\n",
    "sample_sub.head()"
   ]
  },
  {
   "cell_type": "code",
   "execution_count": null,
   "metadata": {},
   "outputs": [],
   "source": [
    "len(sample_sub)"
   ]
  },
  {
   "cell_type": "code",
   "execution_count": null,
   "metadata": {},
   "outputs": [],
   "source": [
    "sample_sub[sample_sub.columns[1:]] = answers"
   ]
  },
  {
   "cell_type": "code",
   "execution_count": null,
   "metadata": {},
   "outputs": [],
   "source": [
    "sample_sub"
   ]
  },
  {
   "cell_type": "code",
   "execution_count": null,
   "metadata": {},
   "outputs": [],
   "source": [
    "sample_sub.to_csv('sample_sub.csv', index=False)"
   ]
  },
  {
   "cell_type": "code",
   "execution_count": null,
   "metadata": {},
   "outputs": [],
   "source": []
  }
 ],
 "metadata": {
  "kernelspec": {
   "display_name": "Python 3",
   "language": "python",
   "name": "python3"
  },
  "language_info": {
   "codemirror_mode": {
    "name": "ipython",
    "version": 3
   },
   "file_extension": ".py",
   "mimetype": "text/x-python",
   "name": "python",
   "nbconvert_exporter": "python",
   "pygments_lexer": "ipython3",
   "version": "3.7.4"
  }
 },
 "nbformat": 4,
 "nbformat_minor": 2
}
